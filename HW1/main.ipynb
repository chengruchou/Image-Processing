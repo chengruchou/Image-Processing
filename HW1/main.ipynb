{
 "cells": [
  {
   "cell_type": "code",
   "execution_count": 7,
   "metadata": {},
   "outputs": [],
   "source": [
    "import cv2\n",
    "import numpy as np\n",
    "import matplotlib.pyplot as plt"
   ]
  },
  {
   "cell_type": "code",
   "execution_count": 8,
   "metadata": {},
   "outputs": [],
   "source": [
    "def histogram_equalization_v_channel(image):\n",
    "    # Convert image from BGR to HSV color space\n",
    "    hsv = cv2.cvtColor(image, cv2.COLOR_BGR2HSV)\n",
    "    h, s, v = cv2.split(hsv)\n",
    "\n",
    "    # Compute histogram of V channel\n",
    "    hist, bins = np.histogram(v.flatten(), 256, [0,256])\n",
    "    \n",
    "    # Compute the cumulative distribution function (CDF)\n",
    "    cdf = hist.cumsum()\n",
    "    \n",
    "    # Normalize the CDF (avoid division by zero)\n",
    "    cdf_masked = np.ma.masked_equal(cdf, 0)\n",
    "    cdf_masked = (cdf_masked - cdf_masked.min()) * 255 / (cdf_masked.max() - cdf_masked.min())\n",
    "    cdf_final = np.ma.filled(cdf_masked, 0).astype('uint8')\n",
    "    \n",
    "    # Map the V channel values using the equalized CDF\n",
    "    v_equalized = cdf_final[v]\n",
    "    \n",
    "    # Merge the channels back and convert to BGR color space\n",
    "    hsv_equalized = cv2.merge([h, s, v_equalized])\n",
    "    result = cv2.cvtColor(hsv_equalized, cv2.COLOR_HSV2BGR)\n",
    "    return result, hsv"
   ]
  },
  {
   "cell_type": "code",
   "execution_count": 9,
   "metadata": {},
   "outputs": [],
   "source": [
    "def plot_and_save_2d_histogram(hsv, output_filename):\n",
    "    # Extract H and S channels\n",
    "    h_channel = hsv[:, :, 0]\n",
    "    s_channel = hsv[:, :, 1]\n",
    "    \n",
    "    # Compute a 2D histogram with 50 bins for each channel.\n",
    "    hist_2d, x_edges, y_edges = np.histogram2d(\n",
    "        h_channel.flatten(), s_channel.flatten(), bins=50, range=[[0,180], [0,256]]\n",
    "    )\n",
    "    \n",
    "    plt.figure(figsize=(6, 5))\n",
    "    plt.imshow(hist_2d, interpolation='nearest', origin='lower', aspect='auto')\n",
    "    plt.title('2D Histogram of H and S channels')\n",
    "    plt.xlabel('Hue bins')\n",
    "    plt.ylabel('Saturation bins')\n",
    "    plt.colorbar()\n",
    "    plt.savefig(output_filename)\n",
    "    plt.close()\n"
   ]
  },
  {
   "cell_type": "code",
   "execution_count": 10,
   "metadata": {},
   "outputs": [],
   "source": [
    "def plot_pdf_comparison(original, equalized, output_filename):\n",
    "    # Convert both images to grayscale\n",
    "    original_gray = cv2.cvtColor(original, cv2.COLOR_BGR2GRAY)\n",
    "    equalized_gray = cv2.cvtColor(equalized, cv2.COLOR_BGR2GRAY)\n",
    "    \n",
    "    # Compute the intensity histograms (PDFs)\n",
    "    hist_orig = cv2.calcHist([original_gray], [0], None, [256], [0, 256])\n",
    "    hist_eq = cv2.calcHist([equalized_gray], [0], None, [256], [0, 256])\n",
    "    \n",
    "    plt.figure(figsize=(10, 5))\n",
    "    plt.plot(hist_orig, label='Original')\n",
    "    plt.plot(hist_eq, label='Equalized')\n",
    "    plt.title('Grayscale PDF Comparison')\n",
    "    plt.xlabel('Pixel Intensity')\n",
    "    plt.ylabel('Frequency')\n",
    "    plt.legend()\n",
    "    plt.savefig(output_filename)\n",
    "    plt.close()\n",
    "\n"
   ]
  },
  {
   "cell_type": "code",
   "execution_count": 11,
   "metadata": {},
   "outputs": [],
   "source": [
    "def create_result_comparison_image(original, equalized, output_filename):\n",
    "    # Create a side-by-side comparison image\n",
    "    comparison = np.hstack((original, equalized))\n",
    "    cv2.imwrite(output_filename, comparison)\n",
    "\n"
   ]
  },
  {
   "cell_type": "code",
   "execution_count": null,
   "metadata": {},
   "outputs": [],
   "source": [
    "def main():\n",
    "    # Read the input image. Make sure 'input.png' exists in the working directory.\n",
    "    image = cv2.imread('input.png')\n",
    "    if image is None:\n",
    "        print(\"Error: 'input.png' not found!\")\n",
    "        return\n",
    "\n",
    "    # Perform histogram equalization on the V channel.\n",
    "    equalized_image, hsv_original = histogram_equalization_v_channel(image)\n",
    "    \n",
    "    # Save the equalized image as 'output.png'\n",
    "    cv2.imwrite('output.png', equalized_image)\n",
    "    \n",
    "    # Generate and save the 2D histogram of H and S channels.\n",
    "    plot_and_save_2d_histogram(hsv_original, '2d_histogram.png')\n",
    "    \n",
    "    # Plot and save the grayscale PDF comparison for the original and equalized images.\n",
    "    plot_pdf_comparison(image, equalized_image, 'pdf_comparison.png')\n",
    "    \n",
    "    # Create and save the side-by-side comparison image.\n",
    "    create_result_comparison_image(image, equalized_image, 'result.png')\n",
    "    \n",
    "    print(\"All images have been saved successfully.\")\n",
    "\n"
   ]
  },
  {
   "cell_type": "code",
   "execution_count": 13,
   "metadata": {},
   "outputs": [
    {
     "name": "stdout",
     "output_type": "stream",
     "text": [
      "All images have been saved successfully.\n"
     ]
    }
   ],
   "source": [
    "if __name__ == \"__main__\":\n",
    "    main()"
   ]
  }
 ],
 "metadata": {
  "kernelspec": {
   "display_name": ".venv",
   "language": "python",
   "name": "python3"
  },
  "language_info": {
   "codemirror_mode": {
    "name": "ipython",
    "version": 3
   },
   "file_extension": ".py",
   "mimetype": "text/x-python",
   "name": "python",
   "nbconvert_exporter": "python",
   "pygments_lexer": "ipython3",
   "version": "3.13.2"
  }
 },
 "nbformat": 4,
 "nbformat_minor": 2
}
